{
 "cells": [
  {
   "cell_type": "markdown",
   "metadata": {},
   "source": [
    "## Unused logistic regression"
   ]
  },
  {
   "cell_type": "markdown",
   "metadata": {},
   "source": [
    "## Logistic Regression Method\n",
    "\n",
    "Data Pre-processing\n",
    "    \n",
    "    The data needs to be converted to the types that are required for the fit() function in order to have the logistic regression working properly.  \n",
    "    \n",
    "### Diameter and Myocardial Resistance"
   ]
  },
  {
   "cell_type": "code",
   "execution_count": null,
   "metadata": {},
   "outputs": [],
   "source": [
    "# Data type conversion\n",
    "Diameter_data = (DIn_filtered,DOut_filtered,DMin_filtered)\n",
    "\n",
    "D_datav = np.mat(Diameter_data)\n",
    "X = D_datav.reshape(-1,3)\n",
    "\n",
    "MRv = MR_df.values\n",
    "Y = MRv.reshape(-1,1)\n",
    "\n",
    "# create and configure model\n",
    "import sklearn.model_selection as LogReg\n",
    "from sklearn.model_selection import train_test_split\n",
    "\n",
    "LogReg = LogisticRegression(solver='lbfgs', multi_class='auto')\n",
    "\n",
    "# Applying Logistic regression\n",
    "x_train, x_test, y_train, y_test = LogReg.train_test_split(X, Y.ravel(), test_size=0.3, random_state=0)\n",
    "\n",
    "#Reshaping lsts into vectorsfrom sklearn.model_selection import train_tes-[t_split\n",
    "x_train_mod = x_train.reshape(-1,3)\n",
    "x_test_mod = x_test.reshape(-1,3)\n",
    "y_train_mod = y_train.reshape(-1,1)\n",
    "y_test_mod = y_test.reshape(-1,1)\n",
    "\n",
    "#Selecting model\n",
    "logreg = LogisticRegression()\n",
    "LogReg.fit(X,Y.ravel())\n",
    "print(\"\\nAccuracy score: \",LogReg.score(x_train,y_train))"
   ]
  },
  {
   "cell_type": "code",
   "execution_count": null,
   "metadata": {},
   "outputs": [],
   "source": [
    "from sklearn.model_selection import train_test_split\n",
    "from sklearn.linear_model import LogisticRegression\n",
    "from sklearn import metrics\n",
    "from sklearn import svm"
   ]
  },
  {
   "cell_type": "code",
   "execution_count": null,
   "metadata": {},
   "outputs": [],
   "source": [
    "def train_logistic_regression(train_x, train_y):\n",
    "    \n",
    "    logistic_regression_model = LogisticRegression(solver='lbfgs',multi_class='auto')\n",
    "    logistic_regression_model.fit(train_x, train_y)\n",
    "    return logistic_regression_model\n",
    "\n",
    "Diameter_data = (DIn_filtered,DOut_filtered,DMin_filtered)\n",
    "D_datav = np.mat(Diameter_data)\n",
    "X = D_datav.reshape(-1,3)\n",
    "#X = X.astype('int')\n",
    "\n",
    "MRv = MR_df.values\n",
    "Y = MRv.reshape(-1,1)\n",
    "#Y = Y1.astype('int')\n",
    "\n",
    "train_x, test_x, train_y, test_y = train_test_split(X, Y, train_size = 0.7)\n",
    "\n",
    "#Reshaping lsts into vectors\n",
    "train_x_mod = train_x.reshape(-1,3)\n",
    "test_x_mod = test_x.reshape(-1,3)\n",
    "train_y_mod = train_y.reshape(-1,1)\n",
    "test_y_mod = test_y.reshape(-1,1)\n",
    "\n",
    "model = svm.SVR(kernel = 'linear') \n",
    "\n",
    "trained_logistic_regression_model = model.fit(train_x_mod, train_y_mod.ravel())\n",
    "print(trained_logistic_regression_model)"
   ]
  },
  {
   "cell_type": "code",
   "execution_count": null,
   "metadata": {},
   "outputs": [],
   "source": [
    "# Data type conversion\n",
    "Diameter_data = (DIn_filtered,DOut_filtered,DMin_filtered)\n",
    "\n",
    "D_datav = np.mat(Diameter_data)\n",
    "X = D_datav.reshape(-1,3)\n",
    "#X = D_datavr.astype('int')\n",
    "\n",
    "MRv = MR_df.values\n",
    "Y = MRv.reshape(-1,1)\n",
    "#Y = MRv.astype('int')\n",
    "\n",
    "#X = scale(D_datavri)\n",
    "\n",
    "# create and configure model\n",
    "LogReg = LogisticRegression(solver='lbfgs',multi_class='auto')\n",
    "\n",
    "print(LogReg.fit(X,Y.ravel()))\n",
    "print(\"\\nAccuracy score: \",LogReg.score(X,Y))"
   ]
  },
  {
   "cell_type": "code",
   "execution_count": null,
   "metadata": {},
   "outputs": [],
   "source": [
    "y_predict = LogReg.predict(X)\n",
    "report = classification_report(Y,y_predict, labels=np.unique(y_predict))\n",
    "print(report)"
   ]
  }
 ],
 "metadata": {
  "kernelspec": {
   "display_name": "Python 3",
   "language": "python",
   "name": "python3"
  },
  "language_info": {
   "codemirror_mode": {
    "name": "ipython",
    "version": 3
   },
   "file_extension": ".py",
   "mimetype": "text/x-python",
   "name": "python",
   "nbconvert_exporter": "python",
   "pygments_lexer": "ipython3",
   "version": "3.7.3"
  }
 },
 "nbformat": 4,
 "nbformat_minor": 2
}

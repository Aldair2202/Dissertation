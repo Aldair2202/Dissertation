{
 "cells": [
  {
   "cell_type": "markdown",
   "metadata": {},
   "source": [
    "# INSIGNEO CORONARY RESISTANCE 2019"
   ]
  },
  {
   "cell_type": "markdown",
   "metadata": {},
   "source": [
    "## Data Pre-processing"
   ]
  },
  {
   "cell_type": "code",
   "execution_count": 2,
   "metadata": {},
   "outputs": [],
   "source": [
    "# Importing libraries\n",
    "from statsmodels.sandbox.regression.predstd import wls_prediction_std\n",
    "from pandas import ExcelWriter\n",
    "from pandas import ExcelFile\n",
    "from math import isnan\n",
    "from scipy import random, stats\n",
    "from sklearn.linear_model import LogisticRegression\n",
    "from sklearn import metrics\n",
    "from sklearn.model_selection import train_test_split\n",
    "\n",
    "import os\n",
    "import pandas as pd\n",
    "import numpy as np\n",
    "import scipy as sp\n",
    "import seaborn as sns\n",
    "import statsmodels.formula.api as sm\n",
    "import matplotlib.pyplot as plt\n",
    "\n",
    "from pylab import rcParams\n",
    "import seaborn as sb\n",
    "import scipy\n",
    "from scipy.stats import spearmanr\n",
    "\n",
    "import sklearn\n",
    "from sklearn import preprocessing\n",
    "from sklearn.preprocessing import scale\n",
    "from sklearn import datasets"
   ]
  },
  {
   "cell_type": "code",
   "execution_count": 3,
   "metadata": {},
   "outputs": [],
   "source": [
    "# Importing the data\n",
    "data_path = \"../DATASET/\"\n",
    "data_file_name = \"MR_data_Feb19_divided_labels.xlsx\"\n",
    "data_file = data_path + data_file_name\n",
    "rawdata = pd.read_excel(data_file)\n",
    "rawdata_array = rawdata.values"
   ]
  },
  {
   "cell_type": "markdown",
   "metadata": {},
   "source": [
    "## Specify data subsets"
   ]
  },
  {
   "cell_type": "code",
   "execution_count": 4,
   "metadata": {},
   "outputs": [],
   "source": [
    "# Create a dataframe from the dataset\n",
    "df = pd.DataFrame(rawdata_array)\n",
    "\n",
    "# Heading set up\n",
    "headers = df.iloc[0] # Get headers from DataFrame\n",
    "headers_list = list(headers) # Make a list from the headers\n",
    "new_df = pd.DataFrame(df.values[1:],columns=headers_list) # Substitute headers numerical index by header list \n",
    "\n",
    "# Create subset for individual diameter columns\n",
    "DIn = new_df['Inlet diameter'] #Inlet diameter\n",
    "DOut = new_df['Outlet diameter'] #Outlet diameter\n",
    "DMin = new_df['Minimum diameter'] #Minimin (stenosis) diameter\n",
    "\n",
    "# Create subset for myocardial resistance\n",
    "MR = new_df['Myocardial resistance']"
   ]
  },
  {
   "cell_type": "markdown",
   "metadata": {},
   "source": [
    "## Scaling data"
   ]
  },
  {
   "cell_type": "markdown",
   "metadata": {},
   "source": [
    "In this section the data is going to be rescaled for computational purposes.\n",
    "* At the moment, only the myocardial resistance will be rescaled by 10^(-9)"
   ]
  },
  {
   "cell_type": "code",
   "execution_count": 7,
   "metadata": {},
   "outputs": [],
   "source": [
    "# Rescaling MR, in this case y1\n",
    "MR_sfactor = 0.0000000001\n",
    "MR_scaled = MR*MR_sfactor\n",
    "#print(MR_scaled)\n",
    "# Dropping patients with NaN in Myocardial resistance\n",
    "del MR_scaled[17]\n",
    "del MR_scaled[24]\n",
    "del MR_scaled[46]\n",
    "del MR_scaled[78]\n",
    "del MR_scaled[80]\n",
    "del MR_scaled[99]\n",
    "del MR_scaled[116]\n",
    "del MR_scaled[127]\n",
    "del MR_scaled[133]\n",
    "del MR_scaled[134]\n",
    "del MR_scaled[137]\n",
    "\n",
    "MR_df = pd.DataFrame(MR_scaled)"
   ]
  },
  {
   "cell_type": "markdown",
   "metadata": {},
   "source": [
    "## Dealing with missing data"
   ]
  },
  {
   "cell_type": "markdown",
   "metadata": {},
   "source": [
    "There will be 2 methods of dealing with this kind of situations:\n",
    "\n",
    "* Row removal\n",
    "    * Where the whole row will be discarted\n",
    "* Mean override\n",
    "    * Where the value with be substituted with the mean of that particular category(i.e. mean of all LAD/RCA)"
   ]
  },
  {
   "cell_type": "markdown",
   "metadata": {},
   "source": [
    "### Method 1: Row removal"
   ]
  },
  {
   "cell_type": "markdown",
   "metadata": {},
   "source": [
    "This causes 11 patients to be removed from the dataset"
   ]
  },
  {
   "cell_type": "code",
   "execution_count": 8,
   "metadata": {},
   "outputs": [],
   "source": [
    "# Drop NaNs from experimental dataset\n",
    "DIn_filtered = DIn.dropna() # Drop for Inlet diameter\n",
    "DOut_filtered = DOut.dropna() # Drop for outlet diameter\n",
    "DMin_filtered = DMin.dropna() # Drop for minimum diameter\n",
    "\n",
    "DIn_df =pd.DataFrame(DIn_filtered)\n",
    "DOut_df =pd.DataFrame(DOut_filtered)\n",
    "DMin_df =pd.DataFrame(DMin_filtered)"
   ]
  },
  {
   "cell_type": "markdown",
   "metadata": {},
   "source": [
    "## Statistics"
   ]
  },
  {
   "cell_type": "markdown",
   "metadata": {},
   "source": [
    "Here, a subset will be created, specified by name, and will be used for statistical analysis of the data"
   ]
  },
  {
   "cell_type": "code",
   "execution_count": 9,
   "metadata": {
    "scrolled": true
   },
   "outputs": [
    {
     "name": "stdout",
     "output_type": "stream",
     "text": [
      "Standard Diviation:  1.0993327804438275 \n",
      "Mean:  1.0290450960027402\n"
     ]
    }
   ],
   "source": [
    "# WORK IN PROGRESS\n",
    "MR_df.describe()\n",
    "std1 = MR_scaled.std()\n",
    "mean1 = MR_scaled.mean()\n",
    "print('Standard Diviation: ',std1, '\\nMean: ',mean1)"
   ]
  },
  {
   "cell_type": "code",
   "execution_count": 10,
   "metadata": {},
   "outputs": [],
   "source": [
    "# Plotting a histogram to test normality of dataset \n",
    "%matplotlib inline\n",
    "import matplotlib\n",
    "import matplotlib.pyplot as plt"
   ]
  },
  {
   "cell_type": "markdown",
   "metadata": {},
   "source": [
    "### Normality test"
   ]
  },
  {
   "cell_type": "code",
   "execution_count": 11,
   "metadata": {},
   "outputs": [
    {
     "data": {
      "text/plain": [
       "Text(0.5, 1.0, 'Minimum diameter Histogram plot for normality test')"
      ]
     },
     "execution_count": 11,
     "metadata": {},
     "output_type": "execute_result"
    },
    {
     "data": {
      "image/png": "[encoded data removed]",
      "text/plain": [
       "<Figure size 1080x360 with 2 Axes>"
      ]
     },
     "metadata": {
      "needs_background": "light"
     },
     "output_type": "display_data"
    },
    {
     "data": {
      "image/png": "[encoded data removed]",
      "text/plain": [
       "<Figure size 1080x360 with 2 Axes>"
      ]
     },
     "metadata": {
      "needs_background": "light"
     },
     "output_type": "display_data"
    }
   ],
   "source": [
    "MR_list = list(MR_scaled)\n",
    "plt.figure(figsize=(15,5))\n",
    "plt.subplot(1,2,1)\n",
    "plt.hist(MR_list)\n",
    "plt.title('Myocardial resistance Histogram plot for normality test')\n",
    "\n",
    "DIn_list = list(DIn_filtered)\n",
    "plt.subplot(1,2,2)\n",
    "plt.hist(DIn_list)\n",
    "plt.title('Inlet diameter Histogram plot for normality test')\n",
    "\n",
    "plt.figure(figsize=(15,5))\n",
    "DOut_list = list(DOut_filtered)\n",
    "plt.subplot(1,2,1)\n",
    "plt.hist(DOut_list)\n",
    "plt.title('Outlet diameter Histogram plot for normality test')\n",
    "\n",
    "DMin_list = list(DMin_filtered)\n",
    "plt.subplot(1,2,2)\n",
    "plt.hist(DMin_list)\n",
    "plt.title('Minimum diameter Histogram plot for normality test')"
   ]
  },
  {
   "cell_type": "markdown",
   "metadata": {},
   "source": [
    "## Multiple LinearRegression Method"
   ]
  },
  {
   "cell_type": "markdown",
   "metadata": {},
   "source": [
    "In this ML method, I will use the MR as target, and the 3 diameters as training data."
   ]
  },
  {
   "cell_type": "code",
   "execution_count": 12,
   "metadata": {},
   "outputs": [
    {
     "data": {
      "text/plain": [
       "Text(0, 0.5, 'Myocardial resistance')"
      ]
     },
     "execution_count": 12,
     "metadata": {},
     "output_type": "execute_result"
    },
    {
     "data": {
      "image/png": "[encoded data removed]",
      "text/plain": [
       "<Figure size 864x360 with 2 Axes>"
      ]
     },
     "metadata": {
      "needs_background": "light"
     },
     "output_type": "display_data"
    },
    {
     "data": {
      "image/png": "[encoded data removed]",
      "text/plain": [
       "<Figure size 864x360 with 1 Axes>"
      ]
     },
     "metadata": {
      "needs_background": "light"
     },
     "output_type": "display_data"
    }
   ],
   "source": [
    "# plot the data\n",
    "plt.figure(figsize=(12,5))\n",
    "\n",
    "plt.subplot(1,2,1)\n",
    "plt.scatter(DIn_list,MR_list)\n",
    "plt.xlabel('Inlet diameter')\n",
    "plt.ylabel('Myocardial resistance')\n",
    "\n",
    "plt.subplot(1,2,2)\n",
    "plt.scatter(DOut_list,MR_list)\n",
    "plt.xlabel('Outlet diameter')\n",
    "plt.ylabel('Myocardial resistance')\n",
    "\n",
    "plt.figure(figsize=(12,5))\n",
    "plt.subplot(1,2,1)\n",
    "plt.scatter(DMin_list,MR_list)\n",
    "plt.xlabel('Minimum diameter')\n",
    "plt.ylabel('Myocardial resistance')"
   ]
  },
  {
   "cell_type": "code",
   "execution_count": 13,
   "metadata": {},
   "outputs": [
    {
     "data": {
      "text/html": [
       "<table class=\"simpletable\">\n",
       "<caption>OLS Regression Results</caption>\n",
       "<tr>\n",
       "  <th>Dep. Variable:</th>         <td>MR_list</td>     <th>  R-squared:         </th> <td>   0.081</td>\n",
       "</tr>\n",
       "<tr>\n",
       "  <th>Model:</th>                   <td>OLS</td>       <th>  Adj. R-squared:    </th> <td>   0.062</td>\n",
       "</tr>\n",
       "<tr>\n",
       "  <th>Method:</th>             <td>Least Squares</td>  <th>  F-statistic:       </th> <td>   4.171</td>\n",
       "</tr>\n",
       "<tr>\n",
       "  <th>Date:</th>             <td>Thu, 04 Jul 2019</td> <th>  Prob (F-statistic):</th>  <td>0.00726</td>\n",
       "</tr>\n",
       "<tr>\n",
       "  <th>Time:</th>                 <td>11:21:35</td>     <th>  Log-Likelihood:    </th> <td> -214.32</td>\n",
       "</tr>\n",
       "<tr>\n",
       "  <th>No. Observations:</th>      <td>   146</td>      <th>  AIC:               </th> <td>   436.6</td>\n",
       "</tr>\n",
       "<tr>\n",
       "  <th>Df Residuals:</th>          <td>   142</td>      <th>  BIC:               </th> <td>   448.6</td>\n",
       "</tr>\n",
       "<tr>\n",
       "  <th>Df Model:</th>              <td>     3</td>      <th>                     </th>     <td> </td>   \n",
       "</tr>\n",
       "<tr>\n",
       "  <th>Covariance Type:</th>      <td>nonrobust</td>    <th>                     </th>     <td> </td>   \n",
       "</tr>\n",
       "</table>\n",
       "<table class=\"simpletable\">\n",
       "<tr>\n",
       "      <td></td>         <th>coef</th>     <th>std err</th>      <th>t</th>      <th>P>|t|</th>  <th>[0.025</th>    <th>0.975]</th>  \n",
       "</tr>\n",
       "<tr>\n",
       "  <th>Intercept</th> <td>    2.6853</td> <td>    0.476</td> <td>    5.636</td> <td> 0.000</td> <td>    1.744</td> <td>    3.627</td>\n",
       "</tr>\n",
       "<tr>\n",
       "  <th>DIn_list</th>  <td>   -0.2562</td> <td>    0.118</td> <td>   -2.179</td> <td> 0.031</td> <td>   -0.489</td> <td>   -0.024</td>\n",
       "</tr>\n",
       "<tr>\n",
       "  <th>DOut_list</th> <td>   -0.3366</td> <td>    0.186</td> <td>   -1.812</td> <td> 0.072</td> <td>   -0.704</td> <td>    0.031</td>\n",
       "</tr>\n",
       "<tr>\n",
       "  <th>DMin_list</th> <td>   -0.0439</td> <td>    0.205</td> <td>   -0.215</td> <td> 0.830</td> <td>   -0.449</td> <td>    0.361</td>\n",
       "</tr>\n",
       "</table>\n",
       "<table class=\"simpletable\">\n",
       "<tr>\n",
       "  <th>Omnibus:</th>       <td>129.071</td> <th>  Durbin-Watson:     </th> <td>   1.494</td> \n",
       "</tr>\n",
       "<tr>\n",
       "  <th>Prob(Omnibus):</th> <td> 0.000</td>  <th>  Jarque-Bera (JB):  </th> <td>1323.211</td> \n",
       "</tr>\n",
       "<tr>\n",
       "  <th>Skew:</th>          <td> 3.295</td>  <th>  Prob(JB):          </th> <td>4.66e-288</td>\n",
       "</tr>\n",
       "<tr>\n",
       "  <th>Kurtosis:</th>      <td>16.194</td>  <th>  Cond. No.          </th> <td>    24.8</td> \n",
       "</tr>\n",
       "</table><br/><br/>Warnings:<br/>[1] Standard Errors assume that the covariance matrix of the errors is correctly specified."
      ],
      "text/plain": [
       "<class 'statsmodels.iolib.summary.Summary'>\n",
       "\"\"\"\n",
       "                            OLS Regression Results                            \n",
       "==============================================================================\n",
       "Dep. Variable:                MR_list   R-squared:                       0.081\n",
       "Model:                            OLS   Adj. R-squared:                  0.062\n",
       "Method:                 Least Squares   F-statistic:                     4.171\n",
       "Date:                Thu, 04 Jul 2019   Prob (F-statistic):            0.00726\n",
       "Time:                        11:21:35   Log-Likelihood:                -214.32\n",
       "No. Observations:                 146   AIC:                             436.6\n",
       "Df Residuals:                     142   BIC:                             448.6\n",
       "Df Model:                           3                                         \n",
       "Covariance Type:            nonrobust                                         \n",
       "==============================================================================\n",
       "                 coef    std err          t      P>|t|      [0.025      0.975]\n",
       "------------------------------------------------------------------------------\n",
       "Intercept      2.6853      0.476      5.636      0.000       1.744       3.627\n",
       "DIn_list      -0.2562      0.118     -2.179      0.031      -0.489      -0.024\n",
       "DOut_list     -0.3366      0.186     -1.812      0.072      -0.704       0.031\n",
       "DMin_list     -0.0439      0.205     -0.215      0.830      -0.449       0.361\n",
       "==============================================================================\n",
       "Omnibus:                      129.071   Durbin-Watson:                   1.494\n",
       "Prob(Omnibus):                  0.000   Jarque-Bera (JB):             1323.211\n",
       "Skew:                           3.295   Prob(JB):                    4.66e-288\n",
       "Kurtosis:                      16.194   Cond. No.                         24.8\n",
       "==============================================================================\n",
       "\n",
       "Warnings:\n",
       "[1] Standard Errors assume that the covariance matrix of the errors is correctly specified.\n",
       "\"\"\""
      ]
     },
     "execution_count": 13,
     "metadata": {},
     "output_type": "execute_result"
    }
   ],
   "source": [
    "#Model 1\n",
    "#useful_dataset = new_df.iloc({2,5,6,7})\n",
    "#print(useful_dataset)\n",
    "Xr = (MR_df,DIn_df,DOut_df,DMin_df)\n",
    "model1 = sm.ols(formula= 'MR_list ~ DIn_list + DOut_list + DMin_list', data=MR_df).fit()\n",
    "model1.summary()"
   ]
  },
  {
   "cell_type": "code",
   "execution_count": 14,
   "metadata": {},
   "outputs": [
    {
     "data": {
      "text/plain": [
       "(array([67., 51., 13.,  6.,  4.,  1.,  0.,  2.,  0.,  2.]),\n",
       " array([-1.04161048, -0.35390844,  0.3337936 ,  1.02149563,  1.70919767,\n",
       "         2.39689971,  3.08460175,  3.77230379,  4.46000583,  5.14770786,\n",
       "         5.8354099 ]),\n",
       " <a list of 10 Patch objects>)"
      ]
     },
     "execution_count": 14,
     "metadata": {},
     "output_type": "execute_result"
    },
    {
     "data": {
      "image/png": "[encoded data removed]",
      "text/plain": [
       "<Figure size 432x288 with 1 Axes>"
      ]
     },
     "metadata": {
      "needs_background": "light"
     },
     "output_type": "display_data"
    }
   ],
   "source": [
    "plt.hist(model1.resid)"
   ]
  },
  {
   "cell_type": "markdown",
   "metadata": {},
   "source": [
    "## Logistic Regression Method"
   ]
  },
  {
   "cell_type": "markdown",
   "metadata": {},
   "source": [
    "Data Pre-processing\n",
    "    \n",
    "    The data needs to be converted to the types that are required for the fit() function in order to have the logistic regression working properly.  "
   ]
  },
  {
   "cell_type": "code",
   "execution_count": 15,
   "metadata": {},
   "outputs": [],
   "source": [
    "%matplotlib inline\n",
    "rcParams[\"figure.figsize\"] = 10,5\n",
    "sb.set_style(\"whitegrid\")"
   ]
  },
  {
   "cell_type": "code",
   "execution_count": 17,
   "metadata": {},
   "outputs": [],
   "source": [
    "# Data type conversion\n",
    "Diameter_data = (DIn_filtered.values,DOut_filtered.values,DMin_filtered.values)\n",
    "\n",
    "D_datav = np.mat(Diameter_data)\n",
    "D_datavr = D_datav.reshape(-1,3)\n",
    "D_datavri = D_datavr.astype('int')\n",
    "\n",
    "MRv = MR_df.values\n",
    "Y = MRv.reshape(-1,1)\n",
    "Y = MRv.astype('int')"
   ]
  },
  {
   "cell_type": "code",
   "execution_count": 35,
   "metadata": {},
   "outputs": [
    {
     "name": "stdout",
     "output_type": "stream",
     "text": [
      "LogisticRegression(C=1.0, class_weight=None, dual=False, fit_intercept=True,\n",
      "                   intercept_scaling=1, l1_ratio=None, max_iter=100,\n",
      "                   multi_class='auto', n_jobs=None, penalty='l2',\n",
      "                   random_state=None, solver='lbfgs', tol=0.0001, verbose=0,\n",
      "                   warm_start=False)\n",
      "\n",
      "Accuracy score:  0.6986301369863014\n"
     ]
    }
   ],
   "source": [
    "X = scale(D_datavri)\n",
    "\n",
    "# create and configure model\n",
    "LogReg = LogisticRegression(solver='lbfgs',multi_class='auto')\n",
    "\n",
    "'''' Another method for logistic regression ////////////////////////////////////////////////////////\n",
    "# Applying Logistic regression\n",
    "import sklearn.model_selection as LogReg\n",
    "\n",
    "x_train, x_test, y_train, y_test = LogReg.train_test_split(X, Y, test_size=0.2, random_state=3)\n",
    "\n",
    "#Reshaping lsts into vectors\n",
    "x_train_mod = x_train.reshape(-1,3)\n",
    "x_test_mod = x_test.reshape(-1,3)\n",
    "y_train_mod = y_train.reshape(-1,1)\n",
    "y_test_mod = y_test.reshape(-1,1)\n",
    "\n",
    "#Selecting model\n",
    "logreg = LogisticRegression()\n",
    "logreg.fit(x_train, y_train)\n",
    "print(\"\\nAccuracy score: \",logreg.score(x_train,y_train))////////////////////////////////////////////////////////////////'''''\n",
    "\n",
    "print(LogReg.fit(X,Y.ravel()))\n",
    "print(\"\\nAccuracy score: \",LogReg.score(X,Y))"
   ]
  },
  {
   "cell_type": "code",
   "execution_count": 47,
   "metadata": {},
   "outputs": [
    {
     "name": "stdout",
     "output_type": "stream",
     "text": [
      "              precision    recall  f1-score   support\n",
      "\n",
      "           0       0.70      1.00      0.82       102\n",
      "\n",
      "   micro avg       0.70      1.00      0.82       102\n",
      "   macro avg       0.70      1.00      0.82       102\n",
      "weighted avg       0.70      1.00      0.82       102\n",
      "\n"
     ]
    }
   ],
   "source": [
    "y_predict = LogReg.predict(X)\n",
    "\n",
    "from sklearn.metrics import classification_report\n",
    "report = classification_report(Y,y_predict, labels=np.unique(y_predict))\n",
    "print(report)"
   ]
  }
 ],
 "metadata": {
  "kernelspec": {
   "display_name": "Python 3",
   "language": "python",
   "name": "python3"
  },
  "language_info": {
   "codemirror_mode": {
    "name": "ipython",
    "version": 3
   },
   "file_extension": ".py",
   "mimetype": "text/x-python",
   "name": "python",
   "nbconvert_exporter": "python",
   "pygments_lexer": "ipython3",
   "version": "3.7.3"
  }
 },
 "nbformat": 4,
 "nbformat_minor": 2
}
